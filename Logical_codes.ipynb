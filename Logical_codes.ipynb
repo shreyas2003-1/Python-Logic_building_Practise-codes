{
 "cells": [
  {
   "cell_type": "markdown",
   "id": "87463a88-7824-43cb-b397-3c6424931ed6",
   "metadata": {},
   "source": [
    "# Armstrong number"
   ]
  },
  {
   "cell_type": "code",
   "execution_count": 10,
   "id": "018ab2b3-bbdd-4c39-9345-d56462206dfc",
   "metadata": {},
   "outputs": [
    {
     "name": "stdin",
     "output_type": "stream",
     "text": [
      "Enter the lower limit 100\n",
      "Enter the upper limit 1001\n"
     ]
    },
    {
     "name": "stdout",
     "output_type": "stream",
     "text": [
      " These are Armstrong numbers from the interval  153\n",
      " These are Armstrong numbers from the interval  370\n",
      " These are Armstrong numbers from the interval  371\n",
      " These are Armstrong numbers from the interval  407\n"
     ]
    }
   ],
   "source": [
    "lower=int(input('Enter the lower limit'))\n",
    "upper=int(input('Enter the upper limit'))   # get the interval range\n",
    "\n",
    "for num in range(lower,upper+1):  # running  a for loop\n",
    "    order=len(str(num)) # getting len to use ahead to auto detect the logic\n",
    "    sum=0 # creating a variable to store the sum of our input  \n",
    "    temp=num    # creating a temporary  variable to store our num and make further calculations on it \n",
    "    while temp >0:   # running a conditional  while loop to ensure that  it runs until our  num / temp is greater than 0\n",
    "        digit=temp%10  # to remove the last element by modulas of 10 that is by dividing it by 10 which will make the value in decimal that is eg 15.3 \n",
    "        sum+=digit**order # calculating cube square or any logic is mentioned in num and then after calculating the specific it is eleminated and next values is taken into consideration \n",
    "        temp//=10 # removing the element to process on next element for calculation \n",
    "    if sum==num: # comparing the sum and num is same then its Armstrong number \n",
    "        print(f' These are Armstrong numbers from the interval  {num}')"
   ]
  },
  {
   "cell_type": "markdown",
   "id": "aa18cdb5-94dc-4533-935c-bd0fc5c799a9",
   "metadata": {},
   "source": [
    "# Palindrome"
   ]
  },
  {
   "cell_type": "code",
   "execution_count": 17,
   "id": "40a1295f-f70f-42d0-85c2-cc4f39875208",
   "metadata": {},
   "outputs": [
    {
     "name": "stdin",
     "output_type": "stream",
     "text": [
      "Enter your word to identify weather it is palindrom or not call\n"
     ]
    },
    {
     "name": "stdout",
     "output_type": "stream",
     "text": [
      " Not a Palindrome\n"
     ]
    }
   ],
   "source": [
    "a=input('Enter your word to identify weather it is palindrom or not')\n",
    "rev=a[::-1]\n",
    "\n",
    "if a==rev:\n",
    "    print(f' The word Enterd is {a} Palindrome')\n",
    "else:\n",
    "    print(f' Not a Palindrome')"
   ]
  },
  {
   "cell_type": "markdown",
   "id": "088e2168-d7ea-4a4f-af29-07be2a99a940",
   "metadata": {},
   "source": [
    "# Factorial"
   ]
  },
  {
   "cell_type": "code",
   "execution_count": 23,
   "id": "1ace0ad4-f3ea-4d76-8cc1-29ee5cf9d7c6",
   "metadata": {},
   "outputs": [
    {
     "name": "stdin",
     "output_type": "stream",
     "text": [
      "Enter the number to know its Factorial 7\n"
     ]
    },
    {
     "name": "stdout",
     "output_type": "stream",
     "text": [
      " Factorial for entered number is 5040\n"
     ]
    }
   ],
   "source": [
    "num=int(input('Enter the number to know its Factorial'))\n",
    "fact=1\n",
    "\n",
    "if num <0:\n",
    "    print(f' Factorial for less than < 0 value Not exists')\n",
    "if num ==0:\n",
    "    print(f' The Factorial for 0 is {1}')\n",
    "if num > 0:\n",
    "    for i in range(1,num+1):\n",
    "        fact=fact*i\n",
    "print(f' Factorial for entered number is {fact}')"
   ]
  },
  {
   "cell_type": "code",
   "execution_count": null,
   "id": "14765d9d-6cac-4ed9-bbf7-7ebc3475aa9e",
   "metadata": {},
   "outputs": [],
   "source": []
  },
  {
   "cell_type": "code",
   "execution_count": null,
   "id": "753b0a6b-7ab7-4e6b-b054-6f890186cd0c",
   "metadata": {},
   "outputs": [],
   "source": []
  }
 ],
 "metadata": {
  "kernelspec": {
   "display_name": "Python 3 (ipykernel)",
   "language": "python",
   "name": "python3"
  },
  "language_info": {
   "codemirror_mode": {
    "name": "ipython",
    "version": 3
   },
   "file_extension": ".py",
   "mimetype": "text/x-python",
   "name": "python",
   "nbconvert_exporter": "python",
   "pygments_lexer": "ipython3",
   "version": "3.11.7"
  }
 },
 "nbformat": 4,
 "nbformat_minor": 5
}
